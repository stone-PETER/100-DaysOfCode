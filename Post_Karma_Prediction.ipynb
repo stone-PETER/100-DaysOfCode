{
  "nbformat": 4,
  "nbformat_minor": 0,
  "metadata": {
    "colab": {
      "provenance": []
    },
    "kernelspec": {
      "name": "python3",
      "display_name": "Python 3"
    },
    "language_info": {
      "name": "python"
    }
  },
  "cells": [
    {
      "cell_type": "code",
      "source": [
        "!git clone https://github.com/stone-PETER/Alan_Antony-100DoC-IEEEMACE"
      ],
      "metadata": {
        "colab": {
          "base_uri": "https://localhost:8080/"
        },
        "id": "qkyUpFgZykwx",
        "outputId": "f9fcc1c5-1779-467a-8781-cdeecdae8fd3"
      },
      "execution_count": 2,
      "outputs": [
        {
          "output_type": "stream",
          "name": "stdout",
          "text": [
            "Cloning into 'Alan_Antony-100DoC-IEEEMACE'...\n",
            "remote: Enumerating objects: 37, done.\u001b[K\n",
            "remote: Counting objects: 100% (37/37), done.\u001b[K\n",
            "remote: Compressing objects: 100% (32/32), done.\u001b[K\n",
            "remote: Total 37 (delta 7), reused 16 (delta 1), pack-reused 0\u001b[K\n",
            "Receiving objects: 100% (37/37), 300.98 KiB | 3.63 MiB/s, done.\n",
            "Resolving deltas: 100% (7/7), done.\n"
          ]
        }
      ]
    },
    {
      "cell_type": "code",
      "execution_count": 9,
      "metadata": {
        "colab": {
          "base_uri": "https://localhost:8080/"
        },
        "id": "i8eh-uN7hSK6",
        "outputId": "150fbebb-fd53-4451-8e2e-852488a4e37a"
      },
      "outputs": [
        {
          "output_type": "stream",
          "name": "stdout",
          "text": [
            "[4.8000e+01 5.0000e+01 3.3600e+02 3.6200e+03 1.6170e+03 8.0000e+00\n",
            " 5.8100e+02 4.7415e+04 1.2400e+02 9.9000e+01 2.9000e+01 1.8520e+03\n",
            " 1.4300e+02 1.0236e+04 3.3660e+03 1.3083e+04 1.7400e+02 1.4580e+03\n",
            " 5.0000e+00 3.0800e+02 1.1543e+04 1.3809e+04 5.5900e+02 1.4000e+01\n",
            " 4.5200e+02 1.6000e+01 3.8970e+03 5.7080e+03 3.6000e+01 3.1956e+04]\n",
            "1.0\n"
          ]
        }
      ],
      "source": [
        "import numpy as np\n",
        "import pandas as pd\n",
        "import matplotlib.pyplot as plt\n",
        "import seaborn as sns\n",
        "import re\n",
        "from sklearn.metrics import r2_score, mean_absolute_error, mean_squared_error\n",
        "from sklearn.model_selection import train_test_split\n",
        "from sklearn.linear_model import LinearRegression\n",
        "#DataFrame\n",
        "path = \"/content/Alan_Antony-100DoC-IEEEMACE/reddit_irritation.csv\"\n",
        "df = pd.read_csv(path)\n",
        "\n",
        "#Linear regression\n",
        "x=df.iloc[:,-4:-1:1]       #x=data\n",
        "y=np.array(df.iloc[:,-4])                        #y=target\n",
        "X_train, X_test, y_train, y_test=train_test_split(x,y,test_size=0.2,\n",
        "random_state=42)\n",
        "model=LinearRegression()\n",
        "model.fit(X_train,y_train)\n",
        "model.intercept_\n",
        "model.coef_\n",
        "y_pred=model.predict(X_test)\n",
        "print(y_pred)\n",
        "result=model.score(X_test,y_test)\n",
        "print(result)"
      ]
    }
  ]
}